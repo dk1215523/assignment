{
 "cells": [
  {
   "cell_type": "markdown",
   "id": "6df58531-fb7a-40c0-a094-e8b0f63ed31a",
   "metadata": {},
   "source": [
    "# H1: Data Science Tools and Ecosystem"
   ]
  },
  {
   "cell_type": "markdown",
   "id": "5506e8a7-fd8b-4d68-9873-0e3e63e01332",
   "metadata": {},
   "source": [
    "In this notebook, Data Science Tools and Ecosystem are summarized."
   ]
  },
  {
   "cell_type": "markdown",
   "id": "35a6bd61-c813-405a-bbb2-10e0d55ad869",
   "metadata": {},
   "source": [
    "**Objectives:**\n",
    "- List popular languages for Data Science\n",
    "- List some of the commonly used libraries used by Data Scientists.\n",
    "- Examples of evaluating arithematic operations in Python."
   ]
  },
  {
   "cell_type": "markdown",
   "id": "bfb8ca41-185a-4501-a043-329e3288df64",
   "metadata": {},
   "source": [
    "Some of the popular languages that Data Scientists use are:\n",
    "1. Python\n",
    "2. R\n",
    "3. SQL"
   ]
  },
  {
   "cell_type": "markdown",
   "id": "0d1289f5-9166-49ef-ae2c-7a7a71adfa18",
   "metadata": {},
   "source": [
    "Some of the commonly used libraries used by Data Scientists include:\n",
    "1. Pandas\n",
    "2. NumPy\n",
    "3. Matplotlib"
   ]
  },
  {
   "cell_type": "markdown",
   "id": "d59a94c0-ff61-4f42-9bdc-25dc55b8cc2c",
   "metadata": {},
   "source": [
    "|Data Science Tools|\n",
    "|-------------|\n",
    "|Jupyter Notebook|\n",
    "|RStudio|\n",
    "|Spyder|"
   ]
  },
  {
   "cell_type": "markdown",
   "id": "9caa912b-0e4c-4cf3-b049-81907f0cad28",
   "metadata": {},
   "source": [
    "### H3: Below are a few examples of evaluating arithmetic expressions in Python"
   ]
  },
  {
   "cell_type": "code",
   "execution_count": 1,
   "id": "b28cc64d-0851-4896-b7c3-308104875d31",
   "metadata": {},
   "outputs": [
    {
     "data": {
      "text/plain": [
       "17"
      ]
     },
     "execution_count": 1,
     "metadata": {},
     "output_type": "execute_result"
    }
   ],
   "source": [
    "#This a simple arithmetic expression to multiply then add integers.\n",
    "(3*4)+5"
   ]
  },
  {
   "cell_type": "code",
   "execution_count": 3,
   "id": "8444a9b2-e4f8-4e53-891f-1b38a077c5b4",
   "metadata": {},
   "outputs": [
    {
     "name": "stdout",
     "output_type": "stream",
     "text": [
      "200 minutes is 3.3333333333333335 hours.\n"
     ]
    }
   ],
   "source": [
    "#This will convert 200 minutes to hours by diving by 60.\n",
    "min=200\n",
    "hour=min/60\n",
    "print(min,\"minutes is\" ,hour ,\"hours.\")"
   ]
  },
  {
   "cell_type": "markdown",
   "id": "96bc4dae-9ec3-466a-9fa2-34e382a250b1",
   "metadata": {},
   "source": [
    "## H2: Author\n",
    "Devyani Kandwal"
   ]
  },
  {
   "cell_type": "code",
   "execution_count": null,
   "id": "ca32b9f0-80ba-4858-9d59-3f476defa587",
   "metadata": {},
   "outputs": [],
   "source": []
  }
 ],
 "metadata": {
  "kernelspec": {
   "display_name": "Python 3 (ipykernel)",
   "language": "python",
   "name": "python3"
  },
  "language_info": {
   "codemirror_mode": {
    "name": "ipython",
    "version": 3
   },
   "file_extension": ".py",
   "mimetype": "text/x-python",
   "name": "python",
   "nbconvert_exporter": "python",
   "pygments_lexer": "ipython3",
   "version": "3.12.8"
  }
 },
 "nbformat": 4,
 "nbformat_minor": 5
}
